{
 "cells": [
  {
   "cell_type": "code",
   "execution_count": 1,
   "id": "c79d9c33",
   "metadata": {},
   "outputs": [],
   "source": [
    "train = \"/Users/ferreirakevin/Desktop/COURS/4.UoA/Artificial_Intelligence/Assignment/A2/sample_data/train\"\n",
    "test = \"/Users/ferreirakevin/Desktop/COURS/4.UoA/Artificial_Intelligence/Assignment/A2/sample_data/test-sample\"\n",
    "result = \"/Users/ferreirakevin/Desktop/COURS/4.UoA/Artificial_Intelligence/Assignment/A2/sample_data/test-sample-result\""
   ]
  },
  {
   "cell_type": "markdown",
   "id": "6fcd9321",
   "metadata": {},
   "source": [
    "# PARTIE 1"
   ]
  },
  {
   "cell_type": "code",
   "execution_count": 2,
   "id": "4e009440",
   "metadata": {},
   "outputs": [],
   "source": [
    "from nn_kdtree import *"
   ]
  },
  {
   "cell_type": "code",
   "execution_count": 3,
   "id": "4cda0e7b",
   "metadata": {},
   "outputs": [],
   "source": [
    "train_data, train_quality, test_data = read_files(train, test)\n",
    "res_data = np.array(pd.read_csv(result, header=None, delimiter=r'\\s+'))"
   ]
  },
  {
   "cell_type": "code",
   "execution_count": 4,
   "id": "08a686d8",
   "metadata": {},
   "outputs": [
    {
     "name": "stdout",
     "output_type": "stream",
     "text": [
      "[6.1000e+00 4.6000e-01 3.2000e-01 6.2000e+00 5.3000e-02 1.0000e+01\n",
      " 9.4000e+01 9.9537e-01 3.3500e+00 4.7000e-01 1.0100e+01]\n",
      "****** Leaf ******\n",
      "Best =  [6.300e+00 3.600e-01 3.000e-01 4.800e+00 4.900e-02 1.400e+01 8.500e+01\n",
      " 9.932e-01 3.280e+00 3.900e-01 1.060e+01]\n",
      "Distance =  9.963519494079389\n",
      "N =  [5] \n",
      "\n",
      "****** Distance ******\n",
      "Best =  [7.400e+00 3.700e-01 3.500e-01 5.700e+00 6.100e-02 1.200e+01 9.400e+01\n",
      " 9.965e-01 3.480e+00 6.900e-01 1.070e+01]\n",
      "Distance =  2.524750537558117\n",
      "900\n",
      "N =  [6] \n",
      "\n",
      "****** Nearest Neighbor ******\n",
      "Best =  [7.400e+00 3.700e-01 3.500e-01 5.700e+00 6.100e-02 1.200e+01 9.400e+01\n",
      " 9.965e-01 3.480e+00 6.900e-01 1.070e+01]\n",
      "Distance =  2.524750537558117\n",
      "i =  5914\n",
      "N =  [6] \n",
      "\n"
     ]
    }
   ],
   "source": [
    "train_data, train_quality, test_data = read_files(train, test)\n",
    "tree = build_KdTree(train_data)\n",
    "\n",
    "data = np.array(train_data)\n",
    "point = np.array(test_data)[7]\n",
    "tree = build_KdTree(data)\n",
    "print(point)\n",
    "print(\"****** Leaf ******\")\n",
    "best = search_leaf(tree, point)\n",
    "print(\"Best = \", best.point)\n",
    "print(\"Distance = \", distance(best.point, point))\n",
    "index = np.where(np.all(data == best.point, axis=1))\n",
    "print(\"N = \", train_quality[index[0]], \"\\n\")\n",
    "\n",
    "print(\"****** Distance ******\")\n",
    "d_min = 10000000\n",
    "p_min = None\n",
    "j = 0\n",
    "for i in range(len(data)):\n",
    "    j+=1\n",
    "    d = distance(point, data[i])\n",
    "    if d<d_min:\n",
    "        d_min = d\n",
    "        p_min = data[i]\n",
    "print(\"Best = \", p_min)\n",
    "print(\"Distance = \",d_min)\n",
    "print(j)\n",
    "index = np.where(np.all(data == p_min, axis=1))\n",
    "print(\"N = \", train_quality[index[0]], \"\\n\")\n",
    "\n",
    "print(\"****** Nearest Neighbor ******\")\n",
    "best = nearest_neighbor(tree, point)\n",
    "print(\"Best = \", best[0].point)\n",
    "print(\"Distance = \",best[1])\n",
    "print(\"i = \",best[2])\n",
    "index = np.where(np.all(data == best[0].point, axis=1))\n",
    "print(\"N = \", train_quality[index[0]], \"\\n\")"
   ]
  },
  {
   "cell_type": "code",
   "execution_count": 5,
   "id": "65a07a2d",
   "metadata": {},
   "outputs": [],
   "source": [
    "from sklearn.neighbors import KDTree\n",
    "X_train = train_data\n",
    "# Création de l'objet KDTree\n",
    "kdtree = KDTree(X_train)\n",
    "# Données de test\n",
    "X_test = test_data\n",
    "# Recherche du plus proche voisin pour chaque point de test\n",
    "distances, indices = kdtree.query(X_test, k=1)\n",
    "# Affichage des résultats\n",
    "res_lib_tree = [int(train_quality[i]) for i in indices]"
   ]
  },
  {
   "cell_type": "code",
   "execution_count": 6,
   "id": "78d892b4",
   "metadata": {},
   "outputs": [],
   "source": [
    "tree = build_KdTree(train_data, 1)\n",
    "res = []\n",
    "for p in range(len(test_data)):\n",
    "    best = nearest_neighbor(tree, test_data[p],1)\n",
    "    index = np.where(np.all(train_data == best[0].point, axis=1))\n",
    "    res.append(int(train_quality[index[0]]))\n",
    "res_tree = np.array(res)"
   ]
  },
  {
   "cell_type": "code",
   "execution_count": 7,
   "id": "11ba32a5",
   "metadata": {},
   "outputs": [
    {
     "name": "stdout",
     "output_type": "stream",
     "text": [
      "1.0\n"
     ]
    }
   ],
   "source": [
    "comparaison = [a == b for a, b in zip(res_tree, res_data)]\n",
    "t = len(comparaison)\n",
    "v = np.sum(comparaison)\n",
    "print(v/t)"
   ]
  },
  {
   "cell_type": "code",
   "execution_count": 8,
   "id": "d1fdb561",
   "metadata": {},
   "outputs": [
    {
     "name": "stdout",
     "output_type": "stream",
     "text": [
      "1.0\n"
     ]
    }
   ],
   "source": [
    "comparaison = [a == b for a, b in zip(res_lib_tree, res_data)]\n",
    "t = len(comparaison)\n",
    "v = np.sum(comparaison)\n",
    "print(v/t)"
   ]
  },
  {
   "cell_type": "code",
   "execution_count": 9,
   "id": "dc8a3840",
   "metadata": {},
   "outputs": [
    {
     "name": "stdout",
     "output_type": "stream",
     "text": [
      "1.0\n"
     ]
    }
   ],
   "source": [
    "comparaison = [a == b for a, b in zip(res_tree, res_lib_tree)]\n",
    "t = len(comparaison)\n",
    "v = np.sum(comparaison)\n",
    "print(v/t)"
   ]
  },
  {
   "cell_type": "markdown",
   "id": "cb2343d8",
   "metadata": {},
   "source": [
    "# PARTIE 2"
   ]
  },
  {
   "cell_type": "code",
   "execution_count": 6,
   "id": "58bac388",
   "metadata": {},
   "outputs": [],
   "source": [
    "from nn_kdforest import *\n",
    "from nn_kdtree import *"
   ]
  },
  {
   "cell_type": "code",
   "execution_count": 7,
   "id": "508e6507",
   "metadata": {},
   "outputs": [],
   "source": [
    "train = \"/Users/ferreirakevin/Desktop/COURS/4.UoA/Artificial_Intelligence/Assignment/A2/sample_data/train\"\n",
    "test = \"/Users/ferreirakevin/Desktop/COURS/4.UoA/Artificial_Intelligence/Assignment/A2/sample_data/test-sample\"\n",
    "result = \"/Users/ferreirakevin/Desktop/COURS/4.UoA/Artificial_Intelligence/Assignment/A2/sample_data/test-sample-result\"\n",
    "train_data, train_quality, test_data = read_files(train, test)\n",
    "res_data = np.array(pd.read_csv(result, header=None, delimiter=r'\\s+'))\n",
    "test_data = test_data"
   ]
  },
  {
   "cell_type": "code",
   "execution_count": 8,
   "id": "d161c39c",
   "metadata": {},
   "outputs": [],
   "source": [
    "d_list = [i for i in range(12)]\n",
    "d_list\n",
    "rand_seed = 2"
   ]
  },
  {
   "cell_type": "code",
   "execution_count": 9,
   "id": "a0720f66",
   "metadata": {},
   "outputs": [
    {
     "name": "stdout",
     "output_type": "stream",
     "text": [
      "[6, 5, 6, 6, 5, 5, 6, 6, 6, 7, 6, 6, 6, 5, 6, 7, 5, 7, 6, 5, 5, 6, 6, 6, 5, 7, 7, 6, 5, 7, 6, 6, 5, 6, 6, 6, 7, 5, 5, 6, 7, 6, 6, 7, 6, 5, 6, 6, 7, 6, 7, 6, 7, 5, 7, 6, 7, 7, 5, 6, 6, 5, 5, 6, 5, 5, 7, 5, 5, 6, 6, 6, 7, 6, 6, 5, 7, 6, 7, 6, 7, 7, 6, 7, 7, 5, 7, 7, 7, 5, 6, 6, 6, 7, 7, 7, 6, 5, 6, 7, 5, 6, 7, 5, 7, 7, 7, 7, 7, 7, 7, 5, 7, 7, 6, 7]\n"
     ]
    }
   ],
   "source": [
    "forest = kdForest(train_data, d_list, int(rand_seed))\n",
    "res_forest = []\n",
    "for p in range(len(test_data)):\n",
    "    r = predictKdForest(forest, train_data, train_quality, test_data[p], d_list)\n",
    "    res_forest.append(r)\n",
    "print(res_forest)"
   ]
  },
  {
   "cell_type": "code",
   "execution_count": 10,
   "id": "b5e8033c",
   "metadata": {},
   "outputs": [
    {
     "name": "stdout",
     "output_type": "stream",
     "text": [
      "0.9741379310344828\n"
     ]
    }
   ],
   "source": [
    "comparaison = [a == b for a, b in zip(res_forest, res_data)]\n",
    "t = len(comparaison)\n",
    "v = np.sum(comparaison)\n",
    "print(v/t)"
   ]
  },
  {
   "cell_type": "code",
   "execution_count": null,
   "id": "ae16b011",
   "metadata": {},
   "outputs": [],
   "source": [
    "index = np.where(np.all(comparaison == np.array([False]), axis=1))\n",
    "print(index)"
   ]
  },
  {
   "cell_type": "code",
   "execution_count": null,
   "id": "03228673",
   "metadata": {},
   "outputs": [],
   "source": [
    "train_data = np.unique(train_data, axis=0)"
   ]
  },
  {
   "cell_type": "code",
   "execution_count": null,
   "id": "868e3637",
   "metadata": {},
   "outputs": [],
   "source": [
    "res_data"
   ]
  },
  {
   "cell_type": "code",
   "execution_count": 5,
   "id": "dafe6847",
   "metadata": {},
   "outputs": [],
   "source": [
    "lst = [[1, 2], [3, 4], [1, 2], [5, 6], [3, 4]]\n",
    "seen = {}\n",
    "\n",
    "for sub_lst in lst:\n",
    "    key = tuple(sub_lst)\n",
    "    if key not in seen:\n",
    "        seen[key] = sub_lst\n",
    "\n",
    "result = list(seen.values())"
   ]
  },
  {
   "cell_type": "code",
   "execution_count": 6,
   "id": "98796de2",
   "metadata": {},
   "outputs": [
    {
     "data": {
      "text/plain": [
       "[[1, 2], [3, 4], [5, 6]]"
      ]
     },
     "execution_count": 6,
     "metadata": {},
     "output_type": "execute_result"
    }
   ],
   "source": [
    "result"
   ]
  }
 ],
 "metadata": {
  "kernelspec": {
   "display_name": "Python 3 (ipykernel)",
   "language": "python",
   "name": "python3"
  },
  "language_info": {
   "codemirror_mode": {
    "name": "ipython",
    "version": 3
   },
   "file_extension": ".py",
   "mimetype": "text/x-python",
   "name": "python",
   "nbconvert_exporter": "python",
   "pygments_lexer": "ipython3",
   "version": "3.9.13"
  }
 },
 "nbformat": 4,
 "nbformat_minor": 5
}
